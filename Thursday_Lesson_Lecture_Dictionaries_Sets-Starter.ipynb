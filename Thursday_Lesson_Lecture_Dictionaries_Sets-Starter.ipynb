{
 "cells": [
  {
   "cell_type": "markdown",
   "metadata": {},
   "source": [
    "# Data Collections 2 (Dictionaries, Sets) and Importing Modules"
   ]
  },
  {
   "cell_type": "markdown",
   "metadata": {},
   "source": [
    "## Tasks Today:\n",
    "\n",
    "1) Dictionary <br>\n",
    " &nbsp;&nbsp;&nbsp;&nbsp; a) Declaring (key, value) <br>\n",
    " &nbsp;&nbsp;&nbsp;&nbsp; b) Accessing Values <br>\n",
    " &nbsp;&nbsp;&nbsp;&nbsp; ------ Exercise #1 - Print the eye color of each person in a double nested dict <br>\n",
    " &nbsp;&nbsp;&nbsp;&nbsp; c) Adding New Pairs <br>\n",
    " &nbsp;&nbsp;&nbsp;&nbsp; d) Modifying Values <br>\n",
    " &nbsp;&nbsp;&nbsp;&nbsp; e) Removing Key, Value Pairs <br>\n",
    " &nbsp;&nbsp;&nbsp;&nbsp; f) Looping a Dictionary <br>\n",
    " &nbsp;&nbsp;&nbsp;&nbsp; g) Looping Only Keys <br>\n",
    " &nbsp;&nbsp;&nbsp;&nbsp; h) Looping Only Values <br>\n",
    " &nbsp;&nbsp;&nbsp;&nbsp; ------ Exercise #2 - Create a Function that Prints All Key Value Pairs within a print .format()  <br>\n",
    " &nbsp;&nbsp;&nbsp;&nbsp; i) sorted() <br>\n",
    " &nbsp;&nbsp;&nbsp;&nbsp; j) Lists with Dictionaries <br>\n",
    " &nbsp;&nbsp;&nbsp;&nbsp; k) Dictionaries with Lists <br>\n",
    " &nbsp;&nbsp;&nbsp;&nbsp; l) Dictionaries with Dictionaries <br>\n",
    " &nbsp;&nbsp;&nbsp;&nbsp; ------ Exercise #3 - Write a Function that asks someone's name and address, and then stores that into a dictionary, which prints all names and addresses after they're done putting information in...  <br>\n",
    "2) Dictionaries vs. Lists (over time)<br>\n",
    "3) Set <br>\n",
    " &nbsp;&nbsp;&nbsp;&nbsp; a) Declaring <br>\n",
    " &nbsp;&nbsp;&nbsp;&nbsp; b) .add() <br>\n",
    " &nbsp;&nbsp;&nbsp;&nbsp; c) .remove() <br>\n",
    " &nbsp;&nbsp;&nbsp;&nbsp; d) .union() <br>\n",
    " &nbsp;&nbsp;&nbsp;&nbsp; e) .intersection() <br>\n",
    " &nbsp;&nbsp;&nbsp;&nbsp; f) .difference() <br>\n",
    " &nbsp;&nbsp;&nbsp;&nbsp; g) Frozen Set <br>\n",
    "\n",
    "5) Exercises <br>\n",
    " &nbsp;&nbsp;&nbsp;&nbsp; a) Address Book Program <br>\n",
    " &nbsp;&nbsp;&nbsp;&nbsp; b) Best Times to Meet <br>"
   ]
  },
  {
   "cell_type": "markdown",
   "metadata": {},
   "source": [
    "#### Warm Up"
   ]
  },
  {
   "cell_type": "markdown",
   "metadata": {},
   "source": [
    "Given the list `address_book`, create a function that accepts a name (first or last or both) and returns the phone number of that name in the `address_book`. If the name is not in `address_book`, return -1.<br>\n",
    "\n",
    "Ex. 1<br>\n",
    "name = 'Hank'<br>\n",
    "Expected Output: '(555) 555-1234'<br>\n",
    "\n",
    "Ex. 2<br>\n",
    "name = 'Tevin'<br>\n",
    "Expected Output: '(333) 333-3245'<br>\n",
    "\n",
    "Ex. 3<br>\n",
    "name = 'Brian'<br>\n",
    "Expected Output: -1<br>"
   ]
  },
  {
   "cell_type": "code",
   "execution_count": 12,
   "metadata": {},
   "outputs": [
    {
     "name": "stdout",
     "output_type": "stream",
     "text": [
      "Help on class str in module builtins:\n",
      "\n",
      "class str(object)\n",
      " |  str(object='') -> str\n",
      " |  str(bytes_or_buffer[, encoding[, errors]]) -> str\n",
      " |  \n",
      " |  Create a new string object from the given object. If encoding or\n",
      " |  errors is specified, then the object must expose a data buffer\n",
      " |  that will be decoded using the given encoding and error handler.\n",
      " |  Otherwise, returns the result of object.__str__() (if defined)\n",
      " |  or repr(object).\n",
      " |  encoding defaults to sys.getdefaultencoding().\n",
      " |  errors defaults to 'strict'.\n",
      " |  \n",
      " |  Methods defined here:\n",
      " |  \n",
      " |  __add__(self, value, /)\n",
      " |      Return self+value.\n",
      " |  \n",
      " |  __contains__(self, key, /)\n",
      " |      Return key in self.\n",
      " |  \n",
      " |  __eq__(self, value, /)\n",
      " |      Return self==value.\n",
      " |  \n",
      " |  __format__(self, format_spec, /)\n",
      " |      Return a formatted version of the string as described by format_spec.\n",
      " |  \n",
      " |  __ge__(self, value, /)\n",
      " |      Return self>=value.\n",
      " |  \n",
      " |  __getattribute__(self, name, /)\n",
      " |      Return getattr(self, name).\n",
      " |  \n",
      " |  __getitem__(self, key, /)\n",
      " |      Return self[key].\n",
      " |  \n",
      " |  __getnewargs__(...)\n",
      " |  \n",
      " |  __gt__(self, value, /)\n",
      " |      Return self>value.\n",
      " |  \n",
      " |  __hash__(self, /)\n",
      " |      Return hash(self).\n",
      " |  \n",
      " |  __iter__(self, /)\n",
      " |      Implement iter(self).\n",
      " |  \n",
      " |  __le__(self, value, /)\n",
      " |      Return self<=value.\n",
      " |  \n",
      " |  __len__(self, /)\n",
      " |      Return len(self).\n",
      " |  \n",
      " |  __lt__(self, value, /)\n",
      " |      Return self<value.\n",
      " |  \n",
      " |  __mod__(self, value, /)\n",
      " |      Return self%value.\n",
      " |  \n",
      " |  __mul__(self, value, /)\n",
      " |      Return self*value.\n",
      " |  \n",
      " |  __ne__(self, value, /)\n",
      " |      Return self!=value.\n",
      " |  \n",
      " |  __repr__(self, /)\n",
      " |      Return repr(self).\n",
      " |  \n",
      " |  __rmod__(self, value, /)\n",
      " |      Return value%self.\n",
      " |  \n",
      " |  __rmul__(self, value, /)\n",
      " |      Return value*self.\n",
      " |  \n",
      " |  __sizeof__(self, /)\n",
      " |      Return the size of the string in memory, in bytes.\n",
      " |  \n",
      " |  __str__(self, /)\n",
      " |      Return str(self).\n",
      " |  \n",
      " |  capitalize(self, /)\n",
      " |      Return a capitalized version of the string.\n",
      " |      \n",
      " |      More specifically, make the first character have upper case and the rest lower\n",
      " |      case.\n",
      " |  \n",
      " |  casefold(self, /)\n",
      " |      Return a version of the string suitable for caseless comparisons.\n",
      " |  \n",
      " |  center(self, width, fillchar=' ', /)\n",
      " |      Return a centered string of length width.\n",
      " |      \n",
      " |      Padding is done using the specified fill character (default is a space).\n",
      " |  \n",
      " |  count(...)\n",
      " |      S.count(sub[, start[, end]]) -> int\n",
      " |      \n",
      " |      Return the number of non-overlapping occurrences of substring sub in\n",
      " |      string S[start:end].  Optional arguments start and end are\n",
      " |      interpreted as in slice notation.\n",
      " |  \n",
      " |  encode(self, /, encoding='utf-8', errors='strict')\n",
      " |      Encode the string using the codec registered for encoding.\n",
      " |      \n",
      " |      encoding\n",
      " |        The encoding in which to encode the string.\n",
      " |      errors\n",
      " |        The error handling scheme to use for encoding errors.\n",
      " |        The default is 'strict' meaning that encoding errors raise a\n",
      " |        UnicodeEncodeError.  Other possible values are 'ignore', 'replace' and\n",
      " |        'xmlcharrefreplace' as well as any other name registered with\n",
      " |        codecs.register_error that can handle UnicodeEncodeErrors.\n",
      " |  \n",
      " |  endswith(...)\n",
      " |      S.endswith(suffix[, start[, end]]) -> bool\n",
      " |      \n",
      " |      Return True if S ends with the specified suffix, False otherwise.\n",
      " |      With optional start, test S beginning at that position.\n",
      " |      With optional end, stop comparing S at that position.\n",
      " |      suffix can also be a tuple of strings to try.\n",
      " |  \n",
      " |  expandtabs(self, /, tabsize=8)\n",
      " |      Return a copy where all tab characters are expanded using spaces.\n",
      " |      \n",
      " |      If tabsize is not given, a tab size of 8 characters is assumed.\n",
      " |  \n",
      " |  find(...)\n",
      " |      S.find(sub[, start[, end]]) -> int\n",
      " |      \n",
      " |      Return the lowest index in S where substring sub is found,\n",
      " |      such that sub is contained within S[start:end].  Optional\n",
      " |      arguments start and end are interpreted as in slice notation.\n",
      " |      \n",
      " |      Return -1 on failure.\n",
      " |  \n",
      " |  format(...)\n",
      " |      S.format(*args, **kwargs) -> str\n",
      " |      \n",
      " |      Return a formatted version of S, using substitutions from args and kwargs.\n",
      " |      The substitutions are identified by braces ('{' and '}').\n",
      " |  \n",
      " |  format_map(...)\n",
      " |      S.format_map(mapping) -> str\n",
      " |      \n",
      " |      Return a formatted version of S, using substitutions from mapping.\n",
      " |      The substitutions are identified by braces ('{' and '}').\n",
      " |  \n",
      " |  index(...)\n",
      " |      S.index(sub[, start[, end]]) -> int\n",
      " |      \n",
      " |      Return the lowest index in S where substring sub is found,\n",
      " |      such that sub is contained within S[start:end].  Optional\n",
      " |      arguments start and end are interpreted as in slice notation.\n",
      " |      \n",
      " |      Raises ValueError when the substring is not found.\n",
      " |  \n",
      " |  isalnum(self, /)\n",
      " |      Return True if the string is an alpha-numeric string, False otherwise.\n",
      " |      \n",
      " |      A string is alpha-numeric if all characters in the string are alpha-numeric and\n",
      " |      there is at least one character in the string.\n",
      " |  \n",
      " |  isalpha(self, /)\n",
      " |      Return True if the string is an alphabetic string, False otherwise.\n",
      " |      \n",
      " |      A string is alphabetic if all characters in the string are alphabetic and there\n",
      " |      is at least one character in the string.\n",
      " |  \n",
      " |  isascii(self, /)\n",
      " |      Return True if all characters in the string are ASCII, False otherwise.\n",
      " |      \n",
      " |      ASCII characters have code points in the range U+0000-U+007F.\n",
      " |      Empty string is ASCII too.\n",
      " |  \n",
      " |  isdecimal(self, /)\n",
      " |      Return True if the string is a decimal string, False otherwise.\n",
      " |      \n",
      " |      A string is a decimal string if all characters in the string are decimal and\n",
      " |      there is at least one character in the string.\n",
      " |  \n",
      " |  isdigit(self, /)\n",
      " |      Return True if the string is a digit string, False otherwise.\n",
      " |      \n",
      " |      A string is a digit string if all characters in the string are digits and there\n",
      " |      is at least one character in the string.\n",
      " |  \n",
      " |  isidentifier(self, /)\n",
      " |      Return True if the string is a valid Python identifier, False otherwise.\n",
      " |      \n",
      " |      Call keyword.iskeyword(s) to test whether string s is a reserved identifier,\n",
      " |      such as \"def\" or \"class\".\n",
      " |  \n",
      " |  islower(self, /)\n",
      " |      Return True if the string is a lowercase string, False otherwise.\n",
      " |      \n",
      " |      A string is lowercase if all cased characters in the string are lowercase and\n",
      " |      there is at least one cased character in the string.\n",
      " |  \n",
      " |  isnumeric(self, /)\n",
      " |      Return True if the string is a numeric string, False otherwise.\n",
      " |      \n",
      " |      A string is numeric if all characters in the string are numeric and there is at\n",
      " |      least one character in the string.\n",
      " |  \n",
      " |  isprintable(self, /)\n",
      " |      Return True if the string is printable, False otherwise.\n",
      " |      \n",
      " |      A string is printable if all of its characters are considered printable in\n",
      " |      repr() or if it is empty.\n",
      " |  \n",
      " |  isspace(self, /)\n",
      " |      Return True if the string is a whitespace string, False otherwise.\n",
      " |      \n",
      " |      A string is whitespace if all characters in the string are whitespace and there\n",
      " |      is at least one character in the string.\n",
      " |  \n",
      " |  istitle(self, /)\n",
      " |      Return True if the string is a title-cased string, False otherwise.\n",
      " |      \n",
      " |      In a title-cased string, upper- and title-case characters may only\n",
      " |      follow uncased characters and lowercase characters only cased ones.\n",
      " |  \n",
      " |  isupper(self, /)\n",
      " |      Return True if the string is an uppercase string, False otherwise.\n",
      " |      \n",
      " |      A string is uppercase if all cased characters in the string are uppercase and\n",
      " |      there is at least one cased character in the string.\n",
      " |  \n",
      " |  join(self, iterable, /)\n",
      " |      Concatenate any number of strings.\n",
      " |      \n",
      " |      The string whose method is called is inserted in between each given string.\n",
      " |      The result is returned as a new string.\n",
      " |      \n",
      " |      Example: '.'.join(['ab', 'pq', 'rs']) -> 'ab.pq.rs'\n",
      " |  \n",
      " |  ljust(self, width, fillchar=' ', /)\n",
      " |      Return a left-justified string of length width.\n",
      " |      \n",
      " |      Padding is done using the specified fill character (default is a space).\n",
      " |  \n",
      " |  lower(self, /)\n",
      " |      Return a copy of the string converted to lowercase.\n",
      " |  \n",
      " |  lstrip(self, chars=None, /)\n",
      " |      Return a copy of the string with leading whitespace removed.\n",
      " |      \n",
      " |      If chars is given and not None, remove characters in chars instead.\n",
      " |  \n",
      " |  partition(self, sep, /)\n",
      " |      Partition the string into three parts using the given separator.\n",
      " |      \n",
      " |      This will search for the separator in the string.  If the separator is found,\n",
      " |      returns a 3-tuple containing the part before the separator, the separator\n",
      " |      itself, and the part after it.\n",
      " |      \n",
      " |      If the separator is not found, returns a 3-tuple containing the original string\n",
      " |      and two empty strings.\n",
      " |  \n",
      " |  removeprefix(self, prefix, /)\n",
      " |      Return a str with the given prefix string removed if present.\n",
      " |      \n",
      " |      If the string starts with the prefix string, return string[len(prefix):].\n",
      " |      Otherwise, return a copy of the original string.\n",
      " |  \n",
      " |  removesuffix(self, suffix, /)\n",
      " |      Return a str with the given suffix string removed if present.\n",
      " |      \n",
      " |      If the string ends with the suffix string and that suffix is not empty,\n",
      " |      return string[:-len(suffix)]. Otherwise, return a copy of the original\n",
      " |      string.\n",
      " |  \n",
      " |  replace(self, old, new, count=-1, /)\n",
      " |      Return a copy with all occurrences of substring old replaced by new.\n",
      " |      \n",
      " |        count\n",
      " |          Maximum number of occurrences to replace.\n",
      " |          -1 (the default value) means replace all occurrences.\n",
      " |      \n",
      " |      If the optional argument count is given, only the first count occurrences are\n",
      " |      replaced.\n",
      " |  \n",
      " |  rfind(...)\n",
      " |      S.rfind(sub[, start[, end]]) -> int\n",
      " |      \n",
      " |      Return the highest index in S where substring sub is found,\n",
      " |      such that sub is contained within S[start:end].  Optional\n",
      " |      arguments start and end are interpreted as in slice notation.\n",
      " |      \n",
      " |      Return -1 on failure.\n",
      " |  \n",
      " |  rindex(...)\n",
      " |      S.rindex(sub[, start[, end]]) -> int\n",
      " |      \n",
      " |      Return the highest index in S where substring sub is found,\n",
      " |      such that sub is contained within S[start:end].  Optional\n",
      " |      arguments start and end are interpreted as in slice notation.\n",
      " |      \n",
      " |      Raises ValueError when the substring is not found.\n",
      " |  \n",
      " |  rjust(self, width, fillchar=' ', /)\n",
      " |      Return a right-justified string of length width.\n",
      " |      \n",
      " |      Padding is done using the specified fill character (default is a space).\n",
      " |  \n",
      " |  rpartition(self, sep, /)\n",
      " |      Partition the string into three parts using the given separator.\n",
      " |      \n",
      " |      This will search for the separator in the string, starting at the end. If\n",
      " |      the separator is found, returns a 3-tuple containing the part before the\n",
      " |      separator, the separator itself, and the part after it.\n",
      " |      \n",
      " |      If the separator is not found, returns a 3-tuple containing two empty strings\n",
      " |      and the original string.\n",
      " |  \n",
      " |  rsplit(self, /, sep=None, maxsplit=-1)\n",
      " |      Return a list of the words in the string, using sep as the delimiter string.\n",
      " |      \n",
      " |        sep\n",
      " |          The delimiter according which to split the string.\n",
      " |          None (the default value) means split according to any whitespace,\n",
      " |          and discard empty strings from the result.\n",
      " |        maxsplit\n",
      " |          Maximum number of splits to do.\n",
      " |          -1 (the default value) means no limit.\n",
      " |      \n",
      " |      Splits are done starting at the end of the string and working to the front.\n",
      " |  \n",
      " |  rstrip(self, chars=None, /)\n",
      " |      Return a copy of the string with trailing whitespace removed.\n",
      " |      \n",
      " |      If chars is given and not None, remove characters in chars instead.\n",
      " |  \n",
      " |  split(self, /, sep=None, maxsplit=-1)\n",
      " |      Return a list of the words in the string, using sep as the delimiter string.\n",
      " |      \n",
      " |      sep\n",
      " |        The delimiter according which to split the string.\n",
      " |        None (the default value) means split according to any whitespace,\n",
      " |        and discard empty strings from the result.\n",
      " |      maxsplit\n",
      " |        Maximum number of splits to do.\n",
      " |        -1 (the default value) means no limit.\n",
      " |  \n",
      " |  splitlines(self, /, keepends=False)\n",
      " |      Return a list of the lines in the string, breaking at line boundaries.\n",
      " |      \n",
      " |      Line breaks are not included in the resulting list unless keepends is given and\n",
      " |      true.\n",
      " |  \n",
      " |  startswith(...)\n",
      " |      S.startswith(prefix[, start[, end]]) -> bool\n",
      " |      \n",
      " |      Return True if S starts with the specified prefix, False otherwise.\n",
      " |      With optional start, test S beginning at that position.\n",
      " |      With optional end, stop comparing S at that position.\n",
      " |      prefix can also be a tuple of strings to try.\n",
      " |  \n",
      " |  strip(self, chars=None, /)\n",
      " |      Return a copy of the string with leading and trailing whitespace removed.\n",
      " |      \n",
      " |      If chars is given and not None, remove characters in chars instead.\n",
      " |  \n",
      " |  swapcase(self, /)\n",
      " |      Convert uppercase characters to lowercase and lowercase characters to uppercase.\n",
      " |  \n",
      " |  title(self, /)\n",
      " |      Return a version of the string where each word is titlecased.\n",
      " |      \n",
      " |      More specifically, words start with uppercased characters and all remaining\n",
      " |      cased characters have lower case.\n",
      " |  \n",
      " |  translate(self, table, /)\n",
      " |      Replace each character in the string using the given translation table.\n",
      " |      \n",
      " |        table\n",
      " |          Translation table, which must be a mapping of Unicode ordinals to\n",
      " |          Unicode ordinals, strings, or None.\n",
      " |      \n",
      " |      The table must implement lookup/indexing via __getitem__, for instance a\n",
      " |      dictionary or list.  If this operation raises LookupError, the character is\n",
      " |      left untouched.  Characters mapped to None are deleted.\n",
      " |  \n",
      " |  upper(self, /)\n",
      " |      Return a copy of the string converted to uppercase.\n",
      " |  \n",
      " |  zfill(self, width, /)\n",
      " |      Pad a numeric string with zeros on the left, to fill a field of the given width.\n",
      " |      \n",
      " |      The string is never truncated.\n",
      " |  \n",
      " |  ----------------------------------------------------------------------\n",
      " |  Static methods defined here:\n",
      " |  \n",
      " |  __new__(*args, **kwargs) from builtins.type\n",
      " |      Create and return a new object.  See help(type) for accurate signature.\n",
      " |  \n",
      " |  maketrans(...)\n",
      " |      Return a translation table usable for str.translate().\n",
      " |      \n",
      " |      If there is only one argument, it must be a dictionary mapping Unicode\n",
      " |      ordinals (integers) or characters to Unicode ordinals, strings or None.\n",
      " |      Character keys will be then converted to ordinals.\n",
      " |      If there are two arguments, they must be strings of equal length, and\n",
      " |      in the resulting dictionary, each character in x will be mapped to the\n",
      " |      character at the same position in y. If there is a third argument, it\n",
      " |      must be a string, whose characters will be mapped to None in the result.\n",
      "\n"
     ]
    }
   ],
   "source": [
    "help(str)"
   ]
  },
  {
   "cell_type": "code",
   "execution_count": 8,
   "metadata": {},
   "outputs": [
    {
     "data": {
      "text/plain": [
       "'(333) 333-3245'"
      ]
     },
     "execution_count": 8,
     "metadata": {},
     "output_type": "execute_result"
    }
   ],
   "source": [
    "address_book1 = [\n",
    "    ('Hank', 'Mardukas', '123 Real Street', '(555) 555-1234'),\n",
    "    ('Peter', 'Klaven', '321 Fake Street', '(555) 555-4321'),\n",
    "    ('Sydney', 'Fife', '555 Santa Monica Drive', '(222) 222-6789'),\n",
    "    ('Tevin', 'Downey', '100 Rodeo Blvd', '(333) 333-3245')\n",
    "]\n",
    "\n",
    "def return_phone_number(address_book, name):\n",
    "    for listing in address_book:\n",
    "        if name in listing:\n",
    "            return listing[3]\n",
    "    else:\n",
    "        return -1\n",
    "\n",
    "\n",
    "return_phone_number(address_book1, 'Tevin')"
   ]
  },
  {
   "cell_type": "code",
   "execution_count": 16,
   "metadata": {},
   "outputs": [
    {
     "data": {
      "text/plain": [
       "-1"
      ]
     },
     "execution_count": 16,
     "metadata": {},
     "output_type": "execute_result"
    }
   ],
   "source": [
    "# what if the data is not in the correct order?\n",
    "# or what if the tuple is incomplete (ie missing last name or address)\n",
    "\n",
    "\n",
    "# *****************SHORT ANSWER:\n",
    "# **** USE A DICTIONARY!\n",
    "\n",
    "address_book1 = [\n",
    "    ('Hank', 'Mardukas', '123 Real Street', '(555) 555-1234'),\n",
    "    ('Peter', 'Klaven', '321 Fake Street', '(555) 555-4321'),\n",
    "    ('Sydney', 'Fife', '555 Santa Monica Drive', '(222) 222-6789'),\n",
    "    ('Tevin', 'Downey', '100 Rodeo Blvd', '(333) 333-3245')\n",
    "]\n",
    "\n",
    "def return_phone_number(address_book, name):\n",
    "    for index, listing in enumerate(address_book):\n",
    "        if name in listing:\n",
    "            for i, l in enumerate(listing):\n",
    "                if l.isalnum():\n",
    "                    raw_alnum = l.strip(\" ()-\")\n",
    "                    if len(raw_alnum) == 7:\n",
    "                        return l[i]\n",
    "    else:\n",
    "        return -1\n",
    "    \n",
    "return_phone_number(address_book1, 'Tevin')"
   ]
  },
  {
   "cell_type": "markdown",
   "metadata": {},
   "source": [
    "## Dictionary\n",
    "A collection of data with 'key:value' pairs. Dictionaries are \"ordered\" as of Python 3.6\n",
    "\n",
    "\"ordered\" meaning the key-value pairs - not in terms of storage... \n",
    "Python will put the data anywhere all over the place... (unordered storage)\n",
    "As of Python 3.6, Python will remember the ORDER in which you input the entries\n",
    "\n",
    "##### But NO indexed values - can't access items in a dictionary using index values, must use key or value"
   ]
  },
  {
   "cell_type": "markdown",
   "metadata": {},
   "source": [
    "##### Declaring (key, value)"
   ]
  },
  {
   "cell_type": "code",
   "execution_count": 24,
   "metadata": {},
   "outputs": [
    {
     "name": "stdout",
     "output_type": "stream",
     "text": [
      "{}\n",
      "<class 'dict'>\n",
      "{}\n",
      "<class 'dict'>\n",
      "{'Hank': '123 Real Street', 'Peter': '321 Fake Street', 'Sydney': '555 Santa Monica Drive', 'Tevin': '100 Rodeo Blvd'}\n",
      "<class 'dict'>\n"
     ]
    }
   ],
   "source": [
    "# Syntax: a_dict = {} or a_dict = dict() or a_dict = {'key': value, ...}\n",
    "\n",
    "d_1 = {}\n",
    "print(d_1)\n",
    "print(type(d_1))\n",
    "\n",
    "\n",
    "d_2 = dict()\n",
    "print(d_2)\n",
    "print(type(d_2))\n",
    "\n",
    "\n",
    "\n",
    "d_3 = {\n",
    "    'Hank': '123 Real Street',\n",
    "    'Peter': '321 Fake Street',\n",
    "    'Sydney': '555 Santa Monica Drive',\n",
    "    'Tevin': '100 Rodeo Blvd'\n",
    "}\n",
    "print(d_3)\n",
    "print(type(d_3))"
   ]
  },
  {
   "cell_type": "markdown",
   "metadata": {},
   "source": [
    "##### Accessing Values"
   ]
  },
  {
   "cell_type": "code",
   "execution_count": 25,
   "metadata": {},
   "outputs": [
    {
     "data": {
      "text/plain": [
       "'123 Real Street'"
      ]
     },
     "execution_count": 25,
     "metadata": {},
     "output_type": "execute_result"
    }
   ],
   "source": [
    "# dict[key]\n",
    "d_3['Hank']"
   ]
  },
  {
   "cell_type": "code",
   "execution_count": 26,
   "metadata": {},
   "outputs": [
    {
     "data": {
      "text/plain": [
       "'100 Rodeo Blvd'"
      ]
     },
     "execution_count": 26,
     "metadata": {},
     "output_type": "execute_result"
    }
   ],
   "source": [
    "d_3['Tevin']"
   ]
  },
  {
   "cell_type": "code",
   "execution_count": 27,
   "metadata": {},
   "outputs": [
    {
     "ename": "KeyError",
     "evalue": "'Brian'",
     "output_type": "error",
     "traceback": [
      "\u001b[0;31m---------------------------------------------------------------------------\u001b[0m",
      "\u001b[0;31mKeyError\u001b[0m                                  Traceback (most recent call last)",
      "Input \u001b[0;32mIn [27]\u001b[0m, in \u001b[0;36m<cell line: 1>\u001b[0;34m()\u001b[0m\n\u001b[0;32m----> 1\u001b[0m \u001b[43md_3\u001b[49m\u001b[43m[\u001b[49m\u001b[38;5;124;43m'\u001b[39;49m\u001b[38;5;124;43mBrian\u001b[39;49m\u001b[38;5;124;43m'\u001b[39;49m\u001b[43m]\u001b[49m\n",
      "\u001b[0;31mKeyError\u001b[0m: 'Brian'"
     ]
    }
   ],
   "source": [
    "d_3['Siobhan']\n",
    "# they never have my name..."
   ]
  },
  {
   "cell_type": "markdown",
   "metadata": {},
   "source": [
    "##### .get()"
   ]
  },
  {
   "cell_type": "code",
   "execution_count": 28,
   "metadata": {},
   "outputs": [
    {
     "name": "stdout",
     "output_type": "stream",
     "text": [
      "321 Fake Street\n",
      "None\n",
      "N/A\n"
     ]
    }
   ],
   "source": [
    "# dict.get('key') or dict.get('key', value_if_no_key)\n",
    "\n",
    "print(d_3.get('Peter'))\n",
    "print(d_3.get('Brian'))\n",
    "print(d_3.get('Brian', 'N/A'))"
   ]
  },
  {
   "cell_type": "markdown",
   "metadata": {},
   "source": [
    "## In-Class Exercise #1 - Print a formatted statement from the dictionary below <br>\n",
    "<p>The output should be 'My favorite car is a 2018 Chevrolet Silverado'</p>"
   ]
  },
  {
   "cell_type": "code",
   "execution_count": 33,
   "metadata": {},
   "outputs": [
    {
     "name": "stdout",
     "output_type": "stream",
     "text": [
      "My favorite car is a 2018 Chevrolet Silverado\n",
      "My favorite car is a 2018 Chevrolet Silverado\n",
      "My favorite car is a 2018 Chevrolet Silverado\n"
     ]
    }
   ],
   "source": [
    "# use the dict below\n",
    "truck = {\n",
    "    'year': 2018,\n",
    "    'make': 'Chevrolet',\n",
    "    'model': 'Silverado'\n",
    "}\n",
    "\n",
    "print(\"My favorite car is a {} {} {}\".format(truck['year'], truck['make'], truck['model']))\n",
    "print(f\"My favorite car is a {truck.get('year')} {truck.get('make')} {truck.get('model')}\")\n",
    "print(f\"My favorite car is a {truck['year']} {truck['make']} {truck['model']}\")\n"
   ]
  },
  {
   "cell_type": "markdown",
   "metadata": {},
   "source": [
    "##### Adding New Pairs"
   ]
  },
  {
   "cell_type": "code",
   "execution_count": 34,
   "metadata": {},
   "outputs": [
    {
     "data": {
      "text/plain": [
       "{'Hank': '123 Real Street',\n",
       " 'Peter': '321 Fake Street',\n",
       " 'Sydney': '555 Santa Monica Drive',\n",
       " 'Tevin': '100 Rodeo Blvd',\n",
       " 'Zooey': '151 Main Street'}"
      ]
     },
     "execution_count": 34,
     "metadata": {},
     "output_type": "execute_result"
    }
   ],
   "source": [
    "# dict[key] = value\n",
    "d_3['Zooey'] = '151 Main Street'\n",
    "\n",
    "d_3"
   ]
  },
  {
   "cell_type": "markdown",
   "metadata": {},
   "source": [
    "##### Modifying Values"
   ]
  },
  {
   "cell_type": "code",
   "execution_count": 38,
   "metadata": {},
   "outputs": [
    {
     "data": {
      "text/plain": [
       "{'Hank': '123 Real Street',\n",
       " 'Peter': '321 Fake Street',\n",
       " 'Sydney': '555 Santa Monica Drive',\n",
       " 'Tevin': '100 Rodeo Blvd',\n",
       " 'Zooey': '321 Fake St'}"
      ]
     },
     "execution_count": 38,
     "metadata": {},
     "output_type": "execute_result"
    }
   ],
   "source": [
    "# dict[key] = value\n",
    "\n",
    "d_3['Zooey'] = '321 Fake St'\n",
    "\n",
    "d_3"
   ]
  },
  {
   "cell_type": "markdown",
   "metadata": {},
   "source": [
    "##### Removing Key, Value Pairs"
   ]
  },
  {
   "cell_type": "code",
   "execution_count": 39,
   "metadata": {},
   "outputs": [
    {
     "data": {
      "text/plain": [
       "{'Hank': '123 Real Street',\n",
       " 'Peter': '321 Fake Street',\n",
       " 'Sydney': '555 Santa Monica Drive',\n",
       " 'Zooey': '321 Fake St'}"
      ]
     },
     "execution_count": 39,
     "metadata": {},
     "output_type": "execute_result"
    }
   ],
   "source": [
    "# del dict[key]\n",
    "\n",
    "del d_3['Tevin']\n",
    "\n",
    "d_3"
   ]
  },
  {
   "cell_type": "code",
   "execution_count": 40,
   "metadata": {},
   "outputs": [
    {
     "ename": "KeyError",
     "evalue": "'Tevin'",
     "output_type": "error",
     "traceback": [
      "\u001b[0;31m---------------------------------------------------------------------------\u001b[0m",
      "\u001b[0;31mKeyError\u001b[0m                                  Traceback (most recent call last)",
      "Input \u001b[0;32mIn [40]\u001b[0m, in \u001b[0;36m<cell line: 4>\u001b[0;34m()\u001b[0m\n\u001b[1;32m      1\u001b[0m \u001b[38;5;66;03m# if you delete a key-value pair that's not there, you get an error\u001b[39;00m\n\u001b[1;32m      2\u001b[0m \n\u001b[1;32m      3\u001b[0m \u001b[38;5;66;03m# Now Tevin is gone, so...\u001b[39;00m\n\u001b[0;32m----> 4\u001b[0m \u001b[38;5;28;01mdel\u001b[39;00m d_3[\u001b[38;5;124m'\u001b[39m\u001b[38;5;124mTevin\u001b[39m\u001b[38;5;124m'\u001b[39m]\n\u001b[1;32m      6\u001b[0m d_3\n",
      "\u001b[0;31mKeyError\u001b[0m: 'Tevin'"
     ]
    }
   ],
   "source": [
    "# if you delete a key-value pair that's not there, you get an error\n",
    "\n",
    "# Now Tevin is gone, so...\n",
    "del d_3['Tevin']\n",
    "\n",
    "d_3"
   ]
  },
  {
   "cell_type": "markdown",
   "metadata": {},
   "source": [
    "##### Looping a Dictionary"
   ]
  },
  {
   "cell_type": "code",
   "execution_count": 44,
   "metadata": {},
   "outputs": [
    {
     "data": {
      "text/plain": [
       "dict_items([('Hank', '123 Real Street'), ('Peter', '321 Fake Street'), ('Sydney', '555 Santa Monica Drive'), ('Zooey', '321 Fake St')])"
      ]
     },
     "execution_count": 44,
     "metadata": {},
     "output_type": "execute_result"
    }
   ],
   "source": [
    "# .items()\n",
    "# a, b, c = 1, 2, 3\n",
    "# print(a)\n",
    "# print(b)\n",
    "# print(c)\n",
    "\n",
    "# correct way to access key and value pairs in dictionary\n",
    "d_3.items()\n",
    "#returns a list of tuples, each being a key-value pair\n"
   ]
  },
  {
   "cell_type": "code",
   "execution_count": 51,
   "metadata": {},
   "outputs": [
    {
     "name": "stdout",
     "output_type": "stream",
     "text": [
      "Hank\n",
      "123 Real Street\n",
      "Peter\n",
      "321 Fake Street\n",
      "Sydney\n",
      "555 Santa Monica Drive\n",
      "Zooey\n",
      "321 Fake St\n"
     ]
    }
   ],
   "source": [
    "for key, value in d_3.items():\n",
    "    print(key)\n",
    "    print(value)"
   ]
  },
  {
   "cell_type": "markdown",
   "metadata": {},
   "source": [
    "### Remember that libraries are NOT indexed - recommended to NOT use integers as keys <br>"
   ]
  },
  {
   "cell_type": "markdown",
   "metadata": {},
   "source": [
    "##### Looping Only Keys"
   ]
  },
  {
   "cell_type": "code",
   "execution_count": null,
   "metadata": {},
   "outputs": [],
   "source": [
    "# .keys()\n",
    "# not recommended:\n",
    "# for i in d_3:\n",
    "#     print(i)\n",
    "\n",
    "# recommended way:\n",
    "for key in d_3.keys():\n",
    "    print(i)"
   ]
  },
  {
   "cell_type": "code",
   "execution_count": 46,
   "metadata": {},
   "outputs": [
    {
     "name": "stdout",
     "output_type": "stream",
     "text": [
      "Hank 123 Real Street\n",
      "Peter 321 Fake Street\n",
      "Sydney 555 Santa Monica Drive\n",
      "Zooey 321 Fake St\n"
     ]
    }
   ],
   "source": [
    "# get values by accessing keys:\n",
    "for key in d_3.keys():\n",
    "    print(key, d_3[key])"
   ]
  },
  {
   "cell_type": "markdown",
   "metadata": {},
   "source": [
    "##### Looping Only Values"
   ]
  },
  {
   "cell_type": "code",
   "execution_count": 47,
   "metadata": {},
   "outputs": [
    {
     "name": "stdout",
     "output_type": "stream",
     "text": [
      "123 Real Street\n",
      "321 Fake Street\n",
      "555 Santa Monica Drive\n",
      "321 Fake St\n"
     ]
    }
   ],
   "source": [
    "# .values()\n",
    "for v in d_3.values():\n",
    "    print(v)\n",
    "\n",
    "# can always get the values, can't always get the keys\n",
    "# in other words, if you know the value, it's hard to figure out what the key was of that value?"
   ]
  },
  {
   "cell_type": "markdown",
   "metadata": {},
   "source": [
    "## In-Class Exercise #2 - Create a Function that Prints All Key Value Pairs within a print .format() <br>\n",
    "<p><b>Output should be:</b><br>\n",
    "Max has blue eyes<br>\n",
    "Lilly has brown eyes<br>\n",
    "Barney has blue eyes<br>\n",
    "etc.\n",
    "</p>"
   ]
  },
  {
   "cell_type": "code",
   "execution_count": 53,
   "metadata": {},
   "outputs": [
    {
     "name": "stdout",
     "output_type": "stream",
     "text": [
      "Max has blue eyes.\n",
      "Lilly has brown eyes.\n",
      "Barney has blue eyes.\n",
      "Larney has brown eyes.\n",
      "Ted has purple eyes.\n"
     ]
    }
   ],
   "source": [
    "# use the dict below\n",
    "\n",
    "people = {\n",
    "    'Max': 'blue',\n",
    "    'Lilly': 'brown',\n",
    "    'Barney': 'blue',\n",
    "    'Larney': 'brown',\n",
    "    'Ted': 'purple'\n",
    "}\n",
    "\n",
    "for key, value in people.items():\n",
    "    print(f\"{key} has {value} eyes.\")"
   ]
  },
  {
   "cell_type": "markdown",
   "metadata": {},
   "source": [
    "##### sorted()"
   ]
  },
  {
   "cell_type": "code",
   "execution_count": 54,
   "metadata": {},
   "outputs": [
    {
     "name": "stdout",
     "output_type": "stream",
     "text": [
      "[('Barney', 'blue'), ('Larney', 'brown'), ('Lilly', 'brown'), ('Max', 'blue'), ('Ted', 'purple')]\n",
      "['Barney', 'Larney', 'Lilly', 'Max', 'Ted']\n",
      "['blue', 'blue', 'brown', 'brown', 'purple']\n"
     ]
    }
   ],
   "source": [
    "# sorts variables in order\n",
    "# sorted(dict.values()) or dict.keys() or dict.items()\n",
    "\n",
    "print(sorted(people.items()))\n",
    "print(sorted(people.keys()))\n",
    "print(sorted(people.values()))"
   ]
  },
  {
   "cell_type": "markdown",
   "metadata": {},
   "source": [
    "##### List with Dictionaries"
   ]
  },
  {
   "cell_type": "code",
   "execution_count": 55,
   "metadata": {},
   "outputs": [
    {
     "name": "stdout",
     "output_type": "stream",
     "text": [
      "Barbara\n",
      "random_guy\n",
      "random_girl\n"
     ]
    }
   ],
   "source": [
    "names = [\"Dave\",\"Randy\",\"Greg\",{\"random_guy\":\"Robert\", \"random_girl\":\"Barbara\"}]\n",
    "\n",
    "print(names[3]['random_girl'])\n",
    "\n",
    "# Get all keys from nested dictionary in a list\n",
    "for keys in names[3].keys():\n",
    "    print(keys)"
   ]
  },
  {
   "cell_type": "markdown",
   "metadata": {},
   "source": [
    "##### List of Dictionaries"
   ]
  },
  {
   "cell_type": "code",
   "execution_count": null,
   "metadata": {},
   "outputs": [],
   "source": [
    "movies = [\n",
    "    {'title': 'Inception', 'director': 'Christopher Nolan', 'release_year': 2010},\n",
    "    {'title': 'The Social Network', 'director': 'David Fincher', 'release_year': 2010},\n",
    "    {'title': 'The Departed', 'director': 'Martin Scorsese', 'release_year': 2006},\n",
    "    {'title': 'Parasite', 'director': 'Bong Joon Ho', 'release_year': 2019}\n",
    "]"
   ]
  },
  {
   "cell_type": "markdown",
   "metadata": {},
   "source": [
    "##### Dictionaries with Lists"
   ]
  },
  {
   "cell_type": "code",
   "execution_count": 58,
   "metadata": {},
   "outputs": [
    {
     "name": "stdout",
     "output_type": "stream",
     "text": [
      "{'list1': [23, 66, 235], 0: ['a', 'b', 'c']}\n",
      "[23, 66, 235] <class 'list'>\n",
      "66\n"
     ]
    }
   ],
   "source": [
    "# be careful when using numbers as keys in dictionaries, don't confuse them with indexes\n",
    "\n",
    "random_data = {\n",
    "    'list1': [23, 66, 235],\n",
    "    0: ['a', 'b', 'c']\n",
    "}\n",
    "\n",
    "print(random_data)\n",
    "\n",
    "print(random_data['list1'], type(random_data['list1']))\n",
    "print(random_data['list1'][1])"
   ]
  },
  {
   "cell_type": "code",
   "execution_count": 60,
   "metadata": {},
   "outputs": [
    {
     "name": "stdout",
     "output_type": "stream",
     "text": [
      "b\n"
     ]
    }
   ],
   "source": [
    "# example of why NOT to use integers as keys--\n",
    "# in this case - 0 = the key and 1 is the #1 index in 0's list\n",
    "print(random_data[0][1])\n"
   ]
  },
  {
   "cell_type": "markdown",
   "metadata": {},
   "source": [
    "##### Dictionaries with Dictionaries"
   ]
  },
  {
   "cell_type": "code",
   "execution_count": 62,
   "metadata": {},
   "outputs": [
    {
     "name": "stdout",
     "output_type": "stream",
     "text": [
      "{'vanilla': 2.99, 'chocolate': 2.99, 'oreo': 3.49}\n",
      "3.49\n"
     ]
    }
   ],
   "source": [
    "# to get values, must traverse through keys\n",
    "\n",
    "my_shoppe = {\n",
    "    'ice_cream': {\n",
    "        'vanilla': 2.99,\n",
    "        'chocolate': 2.99,\n",
    "        'oreo': 3.49\n",
    "    },\n",
    "    'milk_shake': {\n",
    "        'vanilla': 3.99,\n",
    "        'chocolate': 3.99,\n",
    "        'oreo': 4.49\n",
    "    },\n",
    "}\n",
    "\n",
    "# what is the price of oreo ice cream?\n",
    "# start from beginning\n",
    "    # my_shoppe has TWO keys: ice_cream and milk_shake\n",
    "print(my_shoppe['ice_cream'])\n",
    "    # to get to a value within the ice_cream dictionary, access its key\n",
    "print(my_shoppe['ice_cream']['oreo'])"
   ]
  },
  {
   "cell_type": "code",
   "execution_count": 70,
   "metadata": {},
   "outputs": [
    {
     "name": "stdout",
     "output_type": "stream",
     "text": [
      "How much do you want to spend? 2\n",
      "Sorry, no items are available at your requested price point.\n"
     ]
    }
   ],
   "source": [
    "#find out what items you can afford\n",
    "\n",
    "my_money = input(\"How much do you want to spend? \")\n",
    "for dessert_type in my_shoppe.keys():\n",
    "    for flavor, price in my_shoppe[dessert_type].items():\n",
    "        if price < float(my_money):\n",
    "            print(flavor, dessert_type)\n",
    "else:\n",
    "    print(\"Sorry, no items are available at your requested price point.\")"
   ]
  },
  {
   "cell_type": "code",
   "execution_count": 76,
   "metadata": {},
   "outputs": [
    {
     "data": {
      "text/plain": [
       "8"
      ]
     },
     "execution_count": 76,
     "metadata": {},
     "output_type": "execute_result"
    }
   ],
   "source": [
    "job_app = {\n",
    "    'full_name': 'Jimmy Smith',\n",
    "    'email': 'jsmith@email.com',\n",
    "    'prog_languages': [\n",
    "        {\n",
    "            'name': 'Python',\n",
    "            'proficiency': 8\n",
    "        },\n",
    "        {\n",
    "            'name': 'JavaScript',\n",
    "            'proficiency': 5\n",
    "        }\n",
    "    ],\n",
    "    'experience': [\n",
    "        {\n",
    "            'company': 'Omnicorp',\n",
    "            'position': 'bossman',\n",
    "            'years_at_company': [2010, 2011, 2012, 2013]\n",
    "        },\n",
    "        {\n",
    "            'company': 'AlphaInc',\n",
    "            'position': 'QA',\n",
    "            'years_at_company': [2014, 2015]\n",
    "        }\n",
    "    ],\n",
    "    'us_citizen': True\n",
    "}\n",
    "\n",
    "# check output of dictionary\n",
    "# job_app\n",
    "\n",
    "#get languages\n",
    "job_app['prog_languages']\n",
    "\n",
    "#get first language info\n",
    "job_app['prog_languages'][0]\n",
    "\n",
    "#get proficiency at language\n",
    "job_app['prog_languages'][0]['proficiency']"
   ]
  },
  {
   "cell_type": "code",
   "execution_count": 78,
   "metadata": {},
   "outputs": [
    {
     "data": {
      "text/plain": [
       "2"
      ]
     },
     "execution_count": 78,
     "metadata": {},
     "output_type": "execute_result"
    }
   ],
   "source": [
    "# How many years did Jimmy Smith work at AlphaInc?\n",
    "# use builtin len() function\n",
    "# because the experience key's value is a list, \n",
    "# you can index the list for the employer,\n",
    "# use the key, 'years_at_company' to access the years, which is a LIST,\n",
    "# so len('years_at_company') will return the number of years listed at that company \n",
    "\n",
    "len(job_app['experience'][1]['years_at_company'])\n"
   ]
  },
  {
   "cell_type": "markdown",
   "metadata": {},
   "source": [
    "## Dictionaries vs. Lists (over time) Example of RUNTIME\n",
    "### When inputting values in a Dictionary vs List"
   ]
  },
  {
   "cell_type": "code",
   "execution_count": 79,
   "metadata": {},
   "outputs": [],
   "source": [
    "import time\n",
    "\n",
    "\n",
    "# generate fake dictionary\n",
    "d = {}\n",
    "\n",
    "for i in range(10000000):\n",
    "    d[i] = 'value'\n",
    "    \n",
    "\n",
    "# generate fake list\n",
    "big_list = [x for x in range(10000000)]\n",
    "\n",
    "#time generates number of seconds since jan 1, 1970?"
   ]
  },
  {
   "cell_type": "code",
   "execution_count": 81,
   "metadata": {},
   "outputs": [
    {
     "name": "stdout",
     "output_type": "stream",
     "text": [
      "True\n",
      "Elapsed time for dictionary: 0.004579067230224609\n",
      "True\n",
      "Elapsed time for list: 0.2025129795074463\n"
     ]
    }
   ],
   "source": [
    "# tracking time for dictionary\n",
    "# shows that libraries are more efficient process than lists\n",
    "start_time = time.time()\n",
    "\n",
    "print(9999999 in d)\n",
    "\n",
    "end_time = time.time()\n",
    "\n",
    "elapsed_time = end_time - start_time\n",
    "\n",
    "print(f'Elapsed time for dictionary: {elapsed_time}')\n",
    "\n",
    "\n",
    "# tracking time for list\n",
    "start_time = time.time()\n",
    "\n",
    "print(9999999 in big_list)\n",
    "\n",
    "end_time = time.time()\n",
    "\n",
    "elapsed_time = end_time - start_time\n",
    "\n",
    "print(f'Elapsed time for list: {elapsed_time}')"
   ]
  },
  {
   "cell_type": "markdown",
   "metadata": {},
   "source": [
    "## Set <br>\n",
    "<p>A Set is an unordered collection data type that is iterable (loop), mutable, and has no duplicate elements.<br>Major advantage is that it is highly optimized in checking if something is in the set, as opposed to checking if something is in a list.</p>"
   ]
  },
  {
   "cell_type": "markdown",
   "metadata": {},
   "source": [
    "##### Declaring"
   ]
  },
  {
   "cell_type": "code",
   "execution_count": 84,
   "metadata": {},
   "outputs": [
    {
     "name": "stdout",
     "output_type": "stream",
     "text": [
      "set()\n",
      "<class 'set'>\n",
      "{}\n",
      "<class 'dict'>\n",
      "{8, 2, 5}\n",
      "<class 'set'>\n"
     ]
    }
   ],
   "source": [
    "# set() or {val...}\n",
    "\n",
    "my_set = set()\n",
    "\n",
    "print(my_set)\n",
    "print(type(my_set))\n",
    "\n",
    "not_a_set = {}\n",
    "print(not_a_set)\n",
    "print(type(not_a_set))\n",
    "\n",
    "full_set = {5, 2, 8}\n",
    "print(full_set)\n",
    "print(type(full_set))\n",
    "# notice that the numbers don't come back in order -\n",
    "# sets are unordered collections"
   ]
  },
  {
   "cell_type": "code",
   "execution_count": 85,
   "metadata": {},
   "outputs": [
    {
     "name": "stdout",
     "output_type": "stream",
     "text": [
      "{'def', 'ghi', 'abc'}\n",
      "<class 'set'>\n"
     ]
    }
   ],
   "source": [
    "# set of strings\n",
    "string_set = {'abc', 'def', 'ghi'}\n",
    "\n",
    "print(string_set)\n",
    "print(type(string_set))"
   ]
  },
  {
   "cell_type": "code",
   "execution_count": 86,
   "metadata": {},
   "outputs": [
    {
     "name": "stdout",
     "output_type": "stream",
     "text": [
      "{2, 3, 5, 6, 8}\n",
      "<class 'set'>\n"
     ]
    }
   ],
   "source": [
    "# but cannot have duplicates - will eliminate them in storing the set\n",
    "\n",
    "dupl_set = {5, 2, 2, 2, 5, 3, 8, 6, 2, 5, 8}\n",
    "print(dupl_set)\n",
    "print(type(dupl_set))"
   ]
  },
  {
   "cell_type": "markdown",
   "metadata": {},
   "source": [
    "##### .add()"
   ]
  },
  {
   "cell_type": "code",
   "execution_count": 87,
   "metadata": {},
   "outputs": [
    {
     "name": "stdout",
     "output_type": "stream",
     "text": [
      "{8, 2, 123, 5}\n"
     ]
    }
   ],
   "source": [
    "# set.add(value_to_add)\n",
    "# -- similar to LIST.append() --\n",
    "# careful not to confuse the methods\n",
    "\n",
    "full_set.add(123)\n",
    "\n",
    "print(full_set)\n"
   ]
  },
  {
   "cell_type": "markdown",
   "metadata": {},
   "source": [
    "##### .remove()"
   ]
  },
  {
   "cell_type": "code",
   "execution_count": 88,
   "metadata": {},
   "outputs": [
    {
     "name": "stdout",
     "output_type": "stream",
     "text": [
      "{8, 2, 5}\n"
     ]
    }
   ],
   "source": [
    "# removes value\n",
    "# set.remove(value_to_remove)\n",
    "\n",
    "full_set.remove(123)\n",
    "print(full_set)"
   ]
  },
  {
   "cell_type": "code",
   "execution_count": null,
   "metadata": {},
   "outputs": [],
   "source": [
    "##### Can iterate in a set,\n",
    "## but don't expect any certain order"
   ]
  },
  {
   "cell_type": "code",
   "execution_count": 89,
   "metadata": {},
   "outputs": [
    {
     "name": "stdout",
     "output_type": "stream",
     "text": [
      "8\n",
      "2\n",
      "5\n"
     ]
    }
   ],
   "source": [
    "for num in full_set:\n",
    "    print(num)"
   ]
  },
  {
   "cell_type": "markdown",
   "metadata": {},
   "source": [
    "##### .union() "
   ]
  },
  {
   "cell_type": "code",
   "execution_count": 91,
   "metadata": {},
   "outputs": [
    {
     "name": "stdout",
     "output_type": "stream",
     "text": [
      "{1, 2, 3, 4, 5, 6}\n",
      "{1, 2, 3, 4, 5, 6}\n"
     ]
    }
   ],
   "source": [
    "# Returns a union of two sets, can also use '|' or set.union(set)\n",
    "# joins all numbers, gets rid of duplicates\n",
    "\n",
    "s1 = {1, 2, 3, 4}\n",
    "s2 = {3, 4, 5, 6}\n",
    "\n",
    "s3 = s1.union(s2)\n",
    "\n",
    "#or \n",
    "\n",
    "s4 = s1 | s2\n",
    "\n",
    "print(s3)\n",
    "print(s4)"
   ]
  },
  {
   "cell_type": "markdown",
   "metadata": {},
   "source": [
    "##### .intersection()"
   ]
  },
  {
   "cell_type": "code",
   "execution_count": 92,
   "metadata": {},
   "outputs": [
    {
     "name": "stdout",
     "output_type": "stream",
     "text": [
      "{3, 4}\n",
      "{3, 4}\n"
     ]
    }
   ],
   "source": [
    "# Returns an intersection of two sets, can also use '&'\n",
    "# only takes similar elements from both sets\n",
    "\n",
    "s5 = s1. intersection(s2)\n",
    "\n",
    "# OR\n",
    "\n",
    "s6 = s1 & s2\n",
    "\n",
    "print(s5)\n",
    "print(s6)"
   ]
  },
  {
   "cell_type": "markdown",
   "metadata": {},
   "source": [
    "##### .difference()"
   ]
  },
  {
   "cell_type": "code",
   "execution_count": 96,
   "metadata": {},
   "outputs": [
    {
     "name": "stdout",
     "output_type": "stream",
     "text": [
      "{1, 2}\n",
      "{5, 6}\n",
      "{1, 2}\n",
      "{5, 6}\n"
     ]
    }
   ],
   "source": [
    "# Returns a set containing all the elements of invoking set that are not in the second set, can also use '-'\n",
    "# only takes values from the first set that are not in the second set\n",
    "# order matters\n",
    "s1 = {1, 2, 3, 4}\n",
    "s2 = {3, 4, 5, 6}\n",
    "\n",
    "# which items from s1 are NOT in s2\n",
    "# 1, 2\n",
    "s7 = s1. difference(s2)\n",
    "# which items from s2 are NOT in s1\n",
    "# 5, 6\n",
    "s8 = s2.difference(s1)\n",
    "\n",
    "# start with s1 and return the ones NOT in s2\n",
    "# 1, 2\n",
    "s9 = s1 - s2\n",
    "# start with s2 and take out the ones NOT in s1\n",
    "# 5, 6\n",
    "s10 = s2 - s1\n",
    "\n",
    "print(s7)\n",
    "print(s8)\n",
    "print(s9)\n",
    "print(s10)"
   ]
  },
  {
   "cell_type": "markdown",
   "metadata": {},
   "source": [
    "##### .clear()"
   ]
  },
  {
   "cell_type": "code",
   "execution_count": 94,
   "metadata": {},
   "outputs": [
    {
     "name": "stdout",
     "output_type": "stream",
     "text": [
      "set()\n"
     ]
    }
   ],
   "source": [
    "# Empties the whole set\n",
    "# set.clear()\n",
    "\n",
    "s10.clear()\n",
    "print(s10)"
   ]
  },
  {
   "cell_type": "markdown",
   "metadata": {},
   "source": [
    "##### Frozenset <br>\n",
    "<p>Frozen sets are immutable objects that only support methods and operators that produce a result without affecting the frozen set or sets to which they are applied.</p><br><b>Unique & Immutable</b>"
   ]
  },
  {
   "cell_type": "code",
   "execution_count": 99,
   "metadata": {},
   "outputs": [
    {
     "name": "stdout",
     "output_type": "stream",
     "text": [
      "frozenset({'l', 'o', 'e', 'h'})\n"
     ]
    }
   ],
   "source": [
    "# frozenset([])\n",
    "# frozenset([]) : tuple :: set : list\n",
    "\n",
    "my_frozen_set = frozenset('hello')\n",
    "\n",
    "print(my_frozen_set)"
   ]
  },
  {
   "cell_type": "code",
   "execution_count": 100,
   "metadata": {
    "scrolled": true
   },
   "outputs": [
    {
     "ename": "AttributeError",
     "evalue": "'frozenset' object has no attribute 'add'",
     "output_type": "error",
     "traceback": [
      "\u001b[0;31m---------------------------------------------------------------------------\u001b[0m",
      "\u001b[0;31mAttributeError\u001b[0m                            Traceback (most recent call last)",
      "Input \u001b[0;32mIn [100]\u001b[0m, in \u001b[0;36m<cell line: 2>\u001b[0;34m()\u001b[0m\n\u001b[1;32m      1\u001b[0m \u001b[38;5;66;03m# error - can't change frozenset\u001b[39;00m\n\u001b[0;32m----> 2\u001b[0m \u001b[43mmy_frozen_set\u001b[49m\u001b[38;5;241;43m.\u001b[39;49m\u001b[43madd\u001b[49m(\u001b[38;5;124m'\u001b[39m\u001b[38;5;124mb\u001b[39m\u001b[38;5;124m'\u001b[39m)\n",
      "\u001b[0;31mAttributeError\u001b[0m: 'frozenset' object has no attribute 'add'"
     ]
    }
   ],
   "source": [
    "# error - can't change frozenset\n",
    "my_frozen_set.add('b')"
   ]
  },
  {
   "cell_type": "code",
   "execution_count": 101,
   "metadata": {},
   "outputs": [],
   "source": [
    "import time\n",
    "# generate fake set\n",
    "big_set = {i for i in range(10000000)}\n",
    "    \n",
    "\n",
    "# generate fake list\n",
    "big_list = [x for x in range(10000000)]"
   ]
  },
  {
   "cell_type": "code",
   "execution_count": 102,
   "metadata": {},
   "outputs": [
    {
     "name": "stdout",
     "output_type": "stream",
     "text": [
      "True\n",
      "Elapsed time for set: 0.0005004405975341797\n",
      "True\n",
      "Elapsed time for list: 0.20656847953796387\n"
     ]
    }
   ],
   "source": [
    "# tracking time for set\n",
    "start_time = time.time()\n",
    "\n",
    "print(9999999 in big_set)\n",
    "\n",
    "end_time = time.time()\n",
    "\n",
    "elapsed_time = end_time - start_time\n",
    "\n",
    "print(f'Elapsed time for set: {elapsed_time}')\n",
    "\n",
    "\n",
    "# tracking time for list\n",
    "start_time = time.time()\n",
    "\n",
    "print(9999999 in big_list)\n",
    "\n",
    "end_time = time.time()\n",
    "\n",
    "elapsed_time = end_time - start_time\n",
    "\n",
    "print(f'Elapsed time for list: {elapsed_time}')"
   ]
  },
  {
   "cell_type": "code",
   "execution_count": 107,
   "metadata": {},
   "outputs": [
    {
     "data": {
      "text/plain": [
       "True"
      ]
     },
     "execution_count": 107,
     "metadata": {},
     "output_type": "execute_result"
    }
   ],
   "source": [
    "# looping through list has to go in order\n",
    "def is_rainbow_color(a_color):\n",
    "    rainbow_colors = ['red', 'orange', 'yellow', 'green', 'blue', 'indigo', 'violet']\n",
    "    if a_color in rainbow_colors:\n",
    "        return True\n",
    "    else:\n",
    "        return False\n",
    "\n",
    "is_rainbow_color('violet')\n"
   ]
  },
  {
   "cell_type": "code",
   "execution_count": 108,
   "metadata": {},
   "outputs": [
    {
     "data": {
      "text/plain": [
       "True"
      ]
     },
     "execution_count": 108,
     "metadata": {},
     "output_type": "execute_result"
    }
   ],
   "source": [
    "# looping through set doesn't have to go in any order, so will be faster\n",
    "def is_rainbow_color(a_color):\n",
    "    rainbow_colors = {'red', 'orange', 'yellow', 'green', 'blue', 'indigo', 'violet'}\n",
    "    if a_color in rainbow_colors:\n",
    "        return True\n",
    "    else:\n",
    "        return False\n",
    "\n",
    "is_rainbow_color('violet')"
   ]
  },
  {
   "cell_type": "code",
   "execution_count": 110,
   "metadata": {},
   "outputs": [
    {
     "name": "stdout",
     "output_type": "stream",
     "text": [
      "[1, 2, 3, 4, 5, 6, 8]\n"
     ]
    }
   ],
   "source": [
    "# if there is a time where you need to eliminate unique values:\n",
    "# if you change the list to a set and then turn it back into a list... \n",
    "# voila!\n",
    "\n",
    "some_values = [1, 2, 4, 5, 3, 2, 2, 6, 2, 2, 6, 8, 2, 5, 3]\n",
    "print(list(set(some_values)))"
   ]
  },
  {
   "cell_type": "code",
   "execution_count": 109,
   "metadata": {},
   "outputs": [
    {
     "name": "stdout",
     "output_type": "stream",
     "text": [
      "Help on class set in module builtins:\n",
      "\n",
      "class set(object)\n",
      " |  set() -> new empty set object\n",
      " |  set(iterable) -> new set object\n",
      " |  \n",
      " |  Build an unordered collection of unique elements.\n",
      " |  \n",
      " |  Methods defined here:\n",
      " |  \n",
      " |  __and__(self, value, /)\n",
      " |      Return self&value.\n",
      " |  \n",
      " |  __contains__(...)\n",
      " |      x.__contains__(y) <==> y in x.\n",
      " |  \n",
      " |  __eq__(self, value, /)\n",
      " |      Return self==value.\n",
      " |  \n",
      " |  __ge__(self, value, /)\n",
      " |      Return self>=value.\n",
      " |  \n",
      " |  __getattribute__(self, name, /)\n",
      " |      Return getattr(self, name).\n",
      " |  \n",
      " |  __gt__(self, value, /)\n",
      " |      Return self>value.\n",
      " |  \n",
      " |  __iand__(self, value, /)\n",
      " |      Return self&=value.\n",
      " |  \n",
      " |  __init__(self, /, *args, **kwargs)\n",
      " |      Initialize self.  See help(type(self)) for accurate signature.\n",
      " |  \n",
      " |  __ior__(self, value, /)\n",
      " |      Return self|=value.\n",
      " |  \n",
      " |  __isub__(self, value, /)\n",
      " |      Return self-=value.\n",
      " |  \n",
      " |  __iter__(self, /)\n",
      " |      Implement iter(self).\n",
      " |  \n",
      " |  __ixor__(self, value, /)\n",
      " |      Return self^=value.\n",
      " |  \n",
      " |  __le__(self, value, /)\n",
      " |      Return self<=value.\n",
      " |  \n",
      " |  __len__(self, /)\n",
      " |      Return len(self).\n",
      " |  \n",
      " |  __lt__(self, value, /)\n",
      " |      Return self<value.\n",
      " |  \n",
      " |  __ne__(self, value, /)\n",
      " |      Return self!=value.\n",
      " |  \n",
      " |  __or__(self, value, /)\n",
      " |      Return self|value.\n",
      " |  \n",
      " |  __rand__(self, value, /)\n",
      " |      Return value&self.\n",
      " |  \n",
      " |  __reduce__(...)\n",
      " |      Return state information for pickling.\n",
      " |  \n",
      " |  __repr__(self, /)\n",
      " |      Return repr(self).\n",
      " |  \n",
      " |  __ror__(self, value, /)\n",
      " |      Return value|self.\n",
      " |  \n",
      " |  __rsub__(self, value, /)\n",
      " |      Return value-self.\n",
      " |  \n",
      " |  __rxor__(self, value, /)\n",
      " |      Return value^self.\n",
      " |  \n",
      " |  __sizeof__(...)\n",
      " |      S.__sizeof__() -> size of S in memory, in bytes\n",
      " |  \n",
      " |  __sub__(self, value, /)\n",
      " |      Return self-value.\n",
      " |  \n",
      " |  __xor__(self, value, /)\n",
      " |      Return self^value.\n",
      " |  \n",
      " |  add(...)\n",
      " |      Add an element to a set.\n",
      " |      \n",
      " |      This has no effect if the element is already present.\n",
      " |  \n",
      " |  clear(...)\n",
      " |      Remove all elements from this set.\n",
      " |  \n",
      " |  copy(...)\n",
      " |      Return a shallow copy of a set.\n",
      " |  \n",
      " |  difference(...)\n",
      " |      Return the difference of two or more sets as a new set.\n",
      " |      \n",
      " |      (i.e. all elements that are in this set but not the others.)\n",
      " |  \n",
      " |  difference_update(...)\n",
      " |      Remove all elements of another set from this set.\n",
      " |  \n",
      " |  discard(...)\n",
      " |      Remove an element from a set if it is a member.\n",
      " |      \n",
      " |      If the element is not a member, do nothing.\n",
      " |  \n",
      " |  intersection(...)\n",
      " |      Return the intersection of two sets as a new set.\n",
      " |      \n",
      " |      (i.e. all elements that are in both sets.)\n",
      " |  \n",
      " |  intersection_update(...)\n",
      " |      Update a set with the intersection of itself and another.\n",
      " |  \n",
      " |  isdisjoint(...)\n",
      " |      Return True if two sets have a null intersection.\n",
      " |  \n",
      " |  issubset(...)\n",
      " |      Report whether another set contains this set.\n",
      " |  \n",
      " |  issuperset(...)\n",
      " |      Report whether this set contains another set.\n",
      " |  \n",
      " |  pop(...)\n",
      " |      Remove and return an arbitrary set element.\n",
      " |      Raises KeyError if the set is empty.\n",
      " |  \n",
      " |  remove(...)\n",
      " |      Remove an element from a set; it must be a member.\n",
      " |      \n",
      " |      If the element is not a member, raise a KeyError.\n",
      " |  \n",
      " |  symmetric_difference(...)\n",
      " |      Return the symmetric difference of two sets as a new set.\n",
      " |      \n",
      " |      (i.e. all elements that are in exactly one of the sets.)\n",
      " |  \n",
      " |  symmetric_difference_update(...)\n",
      " |      Update a set with the symmetric difference of itself and another.\n",
      " |  \n",
      " |  union(...)\n",
      " |      Return the union of sets as a new set.\n",
      " |      \n",
      " |      (i.e. all elements that are in either set.)\n",
      " |  \n",
      " |  update(...)\n",
      " |      Update a set with the union of itself and others.\n",
      " |  \n",
      " |  ----------------------------------------------------------------------\n",
      " |  Class methods defined here:\n",
      " |  \n",
      " |  __class_getitem__(...) from builtins.type\n",
      " |      See PEP 585\n",
      " |  \n",
      " |  ----------------------------------------------------------------------\n",
      " |  Static methods defined here:\n",
      " |  \n",
      " |  __new__(*args, **kwargs) from builtins.type\n",
      " |      Create and return a new object.  See help(type) for accurate signature.\n",
      " |  \n",
      " |  ----------------------------------------------------------------------\n",
      " |  Data and other attributes defined here:\n",
      " |  \n",
      " |  __hash__ = None\n",
      "\n"
     ]
    }
   ],
   "source": [
    "help(set)"
   ]
  },
  {
   "cell_type": "markdown",
   "metadata": {},
   "source": [
    "# Exercises"
   ]
  },
  {
   "cell_type": "markdown",
   "metadata": {},
   "source": [
    "### 1) Create a program that allows a user to continue to add people to an address book until the user quits. Once the user quits, break out of the loop and print out the name and address of everyone in the address book"
   ]
  },
  {
   "cell_type": "markdown",
   "metadata": {},
   "source": [
    "###### Steps\n",
    "1. Create a function that will ask user for name and addresses and stores them in a dictionary\n",
    "2. Define an empty dictionary with which to work (global or local variable?)\n",
    "3. Begin a loop that will continue to ask a user for information until the user \"quits\"\n",
    "4. If the user does not quit, ask for a name and address and store the variables into variables\n",
    "5. Add information to the dictionary with name as the key and address as the value\n",
    "6. If the user does quit, end the loop\n",
    "7. Print out the information from the dictionary in a formatted way\n",
    "8. Execute/Call the function"
   ]
  },
  {
   "cell_type": "code",
   "execution_count": 30,
   "metadata": {},
   "outputs": [
    {
     "name": "stdout",
     "output_type": "stream",
     "text": [
      "\n",
      "Here is your completed address book!\n",
      "\n",
      "Siobhan\n",
      "123 My Street\n",
      "\n",
      "Fuzz Bunny\n",
      "999 Under Bed\n",
      "\n",
      "Hilda\n",
      "10101010 Planet Zoink\n",
      "\n"
     ]
    }
   ],
   "source": [
    "# this only works inside the Jupyter Notebook\n",
    "# it will clear the previous output before\n",
    "# *can be buggy... sometimes clears input :/\n",
    "from IPython.display import clear_output\n",
    "\n",
    "# The simple way...\n",
    "\n",
    "def address_book_writer():\n",
    "    address_book = {}\n",
    "    another = \"\"\n",
    "    print(\"Welcome to Address Book Creator!\\n\\tFollow the prompts to get your address book.\")\n",
    "    while another != 'Q':\n",
    "        name = input(\"What is the name of the entry? \")\n",
    "        clear_output()\n",
    "        address = input(\"What is the address associated with that name? \")\n",
    "        address_book[name] = address\n",
    "        clear_output()\n",
    "        another = input(\"Do you have another entry?\\n\\t'Y' to add another\\n\\t'Q' to quit\").upper()\n",
    "        clear_output()\n",
    "        if another == 'Q':\n",
    "            break\n",
    "    print(\"\\nHere is your completed address book!\\n\")\n",
    "    for key, value in address_book.items():\n",
    "        print(f\"{key.title()}\\n{value.title()}\\n\")\n",
    "    \n",
    "address_book_writer()"
   ]
  },
  {
   "cell_type": "code",
   "execution_count": 40,
   "metadata": {},
   "outputs": [
    {
     "name": "stdout",
     "output_type": "stream",
     "text": [
      "Welcome to Address Book Creator!\n",
      "\tInput address information...\n",
      "\tHit 'return/enter' to skip...\n",
      "\tType 'quit' to end\n",
      "Type \"go\" to begin, \"stop\" to end go\n",
      "Type the LAST name for this entry: \n",
      "\ta\n",
      "Type the FIRST name for this entry: \n",
      "\tb\n",
      "Type the street NUMBER for this entry: \n",
      "\tc\n",
      "Type the street NAME for this entry: \n",
      "\td\n",
      "Type the city for this entry: \n",
      "\te\n",
      "Type the state for this entry: \n",
      "\tf\n",
      "Type the zip code for this entry: \n",
      "\tg\n",
      "Type the country for this entry: \n",
      "\th\n"
     ]
    },
    {
     "ename": "TypeError",
     "evalue": "'str' object does not support item assignment",
     "output_type": "error",
     "traceback": [
      "\u001b[0;31m---------------------------------------------------------------------------\u001b[0m",
      "\u001b[0;31mTypeError\u001b[0m                                 Traceback (most recent call last)",
      "Input \u001b[0;32mIn [40]\u001b[0m, in \u001b[0;36m<cell line: 65>\u001b[0;34m()\u001b[0m\n\u001b[1;32m     57\u001b[0m \u001b[38;5;66;03m#         address_book[entry_last] = {}\u001b[39;00m\n\u001b[1;32m     58\u001b[0m \u001b[38;5;66;03m#         address_book[entry_last]['last_name'] = entry_last\u001b[39;00m\n\u001b[1;32m     59\u001b[0m \u001b[38;5;66;03m#         address_book[entry_last]['first_name'] = entry_first\u001b[39;00m\n\u001b[1;32m     60\u001b[0m \u001b[38;5;66;03m#         address_book[entry_last]['str_num'] = entry_str_num\u001b[39;00m\n\u001b[1;32m     61\u001b[0m \u001b[38;5;66;03m#         address_book[entry_last]['str_name'] = entry_str_name\u001b[39;00m\n\u001b[1;32m     62\u001b[0m \u001b[38;5;66;03m#         address_book[entry_last]['city'] = entry_city\u001b[39;00m\n\u001b[1;32m     63\u001b[0m     \u001b[38;5;28mprint\u001b[39m(address_book)\n\u001b[0;32m---> 65\u001b[0m \u001b[43maddress_book_writer\u001b[49m\u001b[43m(\u001b[49m\u001b[43m)\u001b[49m\n",
      "Input \u001b[0;32mIn [40]\u001b[0m, in \u001b[0;36maddress_book_writer\u001b[0;34m()\u001b[0m\n\u001b[1;32m     49\u001b[0m \u001b[38;5;28;01mfor\u001b[39;00m index, en \u001b[38;5;129;01min\u001b[39;00m \u001b[38;5;28menumerate\u001b[39m(entry_list):\n\u001b[1;32m     50\u001b[0m     address_book[\u001b[38;5;124m'\u001b[39m\u001b[38;5;124mlisting\u001b[39m\u001b[38;5;124m'\u001b[39m] \u001b[38;5;241m=\u001b[39m en\n\u001b[0;32m---> 51\u001b[0m     address_book[\u001b[38;5;124m'\u001b[39m\u001b[38;5;124mlisting\u001b[39m\u001b[38;5;124m'\u001b[39m][en] \u001b[38;5;241m=\u001b[39m {}\n\u001b[1;32m     52\u001b[0m     \u001b[38;5;28mprint\u001b[39m(address_book)\n\u001b[1;32m     53\u001b[0m     \u001b[38;5;28;01mfor\u001b[39;00m key \u001b[38;5;129;01min\u001b[39;00m key_list:\n",
      "\u001b[0;31mTypeError\u001b[0m: 'str' object does not support item assignment"
     ]
    }
   ],
   "source": [
    "# the harder way...\n",
    "# ask for each part of a person's address \n",
    "# to build a dictionary for that person \n",
    "# inside the address_book dictionary\n",
    "\n",
    "# output:\n",
    "# FORMATTED version of:\n",
    "# address_book = {\n",
    "#     name1 = {\n",
    "#         'first_name': 'me',\n",
    "#         'last_name' : 'myself',\n",
    "#         'st_num' : '123',\n",
    "#         'st_name' : 'Any Street',\n",
    "#         'city_name' : 'City of Dreams',\n",
    "#         'state_name' : 'Stateston',\n",
    "#         'zip_code' : '10000'\n",
    "#     },\n",
    "#     name2 = {\n",
    "#         'first_name': 'me',\n",
    "#         'last_name' : 'myself',\n",
    "#         'st_num' : '123',\n",
    "#         'st_name' : 'Any Street',\n",
    "#         'city_name' : 'City of Dreams',\n",
    "#         'state_name' : 'Stateston',\n",
    "#         'zip_code' : '10000'\n",
    "#     }\n",
    "# }\n",
    "#\n",
    "# CAN YOU build a \"helper function\" that will tell a \"parent\" function to break?\n",
    "# def quit_now(quit):\n",
    "#     if quit.lower = 'quit':\n",
    "#         break\n",
    "\n",
    "\n",
    "# enter entries into a list\n",
    "#  use list to feed/format into dictionary\n",
    "# only option to quit at end/beginning of entry\n",
    "\n",
    "def address_book_writer():\n",
    "    address_book = {}\n",
    "    print(\"Welcome to Address Book Creator!\\n\\tInput address information...\\n\\tHit 'return/enter' to skip...\\n\\tType 'quit' to end\")\n",
    "    ready = input('Type \"go\" to begin, \"stop\" to end ').lower()\n",
    "    if ready == 'go':\n",
    "        key_list = ['LAST name','FIRST name', 'street NUMBER', 'street NAME', 'city', 'state', 'zip code', 'country']\n",
    "        entry_list = []\n",
    "        for key in key_list:\n",
    "            entry = input(f\"Type the {key} for this entry: \\n\\t\")\n",
    "            entry_list.append(entry)\n",
    "        for index, en in enumerate(entry_list):\n",
    "            address_book['listing'] = en\n",
    "            \n",
    "            \n",
    "            \n",
    "            \n",
    "            # HOW DO YOU ADD A DICTIONARY ENTRY IN A DICT WITHIN A DICT?\n",
    "            \n",
    "            \n",
    "            address_book['listing'][en] = {}\n",
    "            print(address_book)\n",
    "            for key in key_list:\n",
    "                print(key, type(key))\n",
    "#                 address_book['listing'][key] = [en]\n",
    "        print(address_book)\n",
    "#         address_book[entry_last] = {}\n",
    "#         address_book[entry_last]['last_name'] = entry_last\n",
    "#         address_book[entry_last]['first_name'] = entry_first\n",
    "#         address_book[entry_last]['str_num'] = entry_str_num\n",
    "#         address_book[entry_last]['str_name'] = entry_str_name\n",
    "#         address_book[entry_last]['city'] = entry_city\n",
    "    print(address_book)\n",
    "    \n",
    "address_book_writer()\n",
    "\n",
    "#         clear_output()\n",
    "#         if entry_name != 'quit'.lower():\n",
    "#             entry_last = input(\"Type the address for this entry: \").title()\n",
    "#             clear_output()\n",
    "#             address_book['name_' + entry_name]['last_name'] = last_name\n",
    "#             if entry_addres != 'Quit':\n",
    "#                 clear_output()\n",
    "#             address_book['name_' + entry_name]['last_name'] = last_name\n"
   ]
  },
  {
   "cell_type": "code",
   "execution_count": 19,
   "metadata": {},
   "outputs": [
    {
     "name": "stdout",
     "output_type": "stream",
     "text": [
      "Welcome to Address Book Creator!\n",
      "\tInput address information...\n",
      "\tHit 'return/enter' to skip...\n",
      "\tType 'quit' to end\n",
      "Ready for first entry?\n",
      "\t\"y\" to begin\n",
      "\t\"quit\" to end  quit\n"
     ]
    }
   ],
   "source": [
    "# this only works inside the Jupyter Notebook\n",
    "# it will clear the previous output before\n",
    "# *can be buggy... sometimes clears input :/\n",
    "from IPython.display import clear_output\n",
    "\n",
    "# output:\n",
    "# FORMATTED version of:\n",
    "# address_book = {\n",
    "#     name1 = {\n",
    "#         'first_name': 'me',\n",
    "#         'last_name' : 'myself',\n",
    "#         'st_num' : '123',\n",
    "#         'st_name' : 'Any Street',\n",
    "#         'city_name' : 'City of Dreams',\n",
    "#         'state_name' : 'Stateston',\n",
    "#         'zip_code' : '10000'\n",
    "#     },\n",
    "#     name2 = {\n",
    "#         'first_name': 'me',\n",
    "#         'last_name' : 'myself',\n",
    "#         'st_num' : '123',\n",
    "#         'st_name' : 'Any Street',\n",
    "#         'city_name' : 'City of Dreams',\n",
    "#         'state_name' : 'Stateston',\n",
    "#         'zip_code' : '10000'\n",
    "#     }\n",
    "# }\n",
    "# def quit_now(quit):\n",
    "#     if quit.lower = 'quit':\n",
    "#         break\n",
    "\n",
    "\n",
    "# enter entries into a list\n",
    "#  use list to feed/format into dictionary\n",
    "# only option to quit at end/beginning of entry\n",
    "\n",
    "def address_book_writer():\n",
    "    address_book = {}\n",
    "    print(\"Welcome to Address Book Creator!\\n\\tInput address information...\\n\\tHit 'return/enter' to skip...\\n\\tType 'quit' to end\")\n",
    "    ready = input('Ready for first entry?\\n\\t\"y\" to begin\\n\\t\"quit\" to end  ').lower()\n",
    "    if ready != 'quit':\n",
    "        key_list = ['LAST name','FIRST name', 'street NUMBER', 'street NAME', 'city', 'state', 'zip code', 'country']\n",
    "        entry_list = []\n",
    "        for key in key_list:\n",
    "            entry = input(f\"Type the {i} for this entry: \\n\\t\")\n",
    "            entry_list.append(entry)\n",
    "        entry = input(\"Type the family/last name for this entry: \\n\\t\").title()\n",
    "        entry_list.append(entry)\n",
    "        print(entry_list)\n",
    "        \n",
    "        entry = input(\"Type the first/given name for this entry: \").title()\n",
    "        entry.append(entry)\n",
    "        print(entry_list)\n",
    "\n",
    "        entry = input(\"Type the STREET NUMBER for this entry: \").title()\n",
    "        entry.append(entry)\n",
    "        print(entry_list)\n",
    "        \n",
    "        entry = input(\"Type the STREET NAME for this entry: \").title()\n",
    "        entry.append(entry)\n",
    "        print(entry_list)\n",
    "        \n",
    "        entry = input(\"Type the city for this entry: \").title()\n",
    "        entry.append(entry)\n",
    "        print(entry_list)\n",
    "        \n",
    "        entry = input(\"Type the city for this entry: \").title()\n",
    "        entry.append(entry)\n",
    "        print(entry_list)\n",
    "        \n",
    "        \n",
    "        address_book[entry_last] = {}\n",
    "        address_book[entry_last]['last_name'] = entry_last\n",
    "        address_book[entry_last]['first_name'] = entry_first\n",
    "        address_book[entry_last]['str_num'] = entry_str_num\n",
    "        address_book[entry_last]['str_name'] = entry_str_name\n",
    "        address_book[entry_last]['city'] = entry_city\n",
    "        print(address_book)\n",
    "address_book_writer()\n",
    "\n",
    "#         clear_output()\n",
    "#         if entry_name != 'quit'.lower():\n",
    "#             entry_last = input(\"Type the address for this entry: \").title()\n",
    "#             clear_output()\n",
    "#             address_book['name_' + entry_name]['last_name'] = last_name\n",
    "#             if entry_addres != 'Quit':\n",
    "#                 clear_output()\n",
    "#             address_book['name_' + entry_name]['last_name'] = last_name\n"
   ]
  },
  {
   "cell_type": "markdown",
   "metadata": {},
   "source": [
    "### 2) Best Time to Meet"
   ]
  },
  {
   "cell_type": "markdown",
   "metadata": {},
   "source": [
    "Billy is trying to figure out if there is a time that he and his team can meet to work on the project. His three teammates each give him a list of times they are available ('HH:MM' 24-hour). Create a function that will take in the list of all the teammates and return a list of times where everyone can meet."
   ]
  },
  {
   "cell_type": "code",
   "execution_count": null,
   "metadata": {},
   "outputs": [],
   "source": [
    "billy_times = ['09:00', '10:30', '11:30', '12:00', '13:00', '14:30']\n",
    "teammate_1 = ['09:30', '10:00', '10:30', '12:00', '14:30', '16:00']\n",
    "teammate_2 = ['09:00', '09:30', '11:00', '11:30', '12:00', '13:30', '14:30', '15:00']\n",
    "teammate_3 = ['11:00', '11:30', '12:00', '14:00', '14:30', '16:30', '17:00']\n",
    "# Available Times: '12:00' and '14:30'\n",
    "\n",
    "def can_meet(billy, t_1, t_2, t_3):\n",
    "    pass\n",
    "\n",
    "can_meet(billy_times, teammate_1, teammate_2, teammate_3)"
   ]
  },
  {
   "cell_type": "code",
   "execution_count": null,
   "metadata": {},
   "outputs": [],
   "source": [
    "# fancy:\n",
    "# set it up as a function with undefined number of people\n",
    "\n",
    "# 1. Input(s): some  number of people's lists of times they can meet\n",
    "# 2. Output(s): list of times everyone is available\n",
    "# 3a. Constraints: times are in 24-hr clock format as strings\n",
    "# 3b. Edge cases: times are not input correctly, time is entered twice? (i.e. 9:30am/9:30pm, but forgot 24hr format)\n",
    "#\n",
    "# 4. Steps\n",
    "#\n",
    "# look through each list to find times that are the SAME in ALL other lists\n",
    "# put similar times in a new list\n",
    "# return the list\n",
    "#\n",
    "# 5. Pseudocode\n",
    "#\n",
    "# def can_meet(*people_time_lists)\n",
    "    # turn lists into sets\n",
    "    # intersection of all sets = times everyone can meet\n",
    "    # return intersection as list\n",
    "        \n",
    "# 6. Code\n",
    "\n",
    "def can_meet(*people_times):\n",
    "    #go through arguments - get a count of arguments...?\n",
    "    args = 0\n",
    "    for person_times in people_times:\n",
    "        args += 1\n",
    "    meetings = set(people_times[0])\n",
    "    for person_times in people_times[range(1, max(people_times))]:\n",
    "        meetings = meetings.intersection(person_times)\n",
    "    return list(meetings) \n",
    "\n",
    "# copied idea from Stack Overflow:\n",
    "# loop through set[n+1] to set[max_sets]\n",
    "for l in (l2, l3, l4):\n",
    "    # add the lists (as sets) to giant list to iterate through\n",
    "    check_list = list(set(l))\n",
    "# set original set as the 1st set\n",
    "result = set(l1)\n",
    "# iterate through list of sets:\n",
    "for s in check_list:\n",
    "    # find the intersections\n",
    "    result = result.intersection(s)\n",
    "    \n",
    "return result\n",
    "\n",
    "\n",
    "# so for an unknown number of arguments:\n",
    "# checklist = []\n",
    "# for l in ls:\n",
    "    # checklist = checklist.append(set(l))\n",
    "    # meeting = set(l)\n",
    "    # ------ except meeting is now not accessible outside the for-loop :/\n",
    "# for s in checklist:\n",
    "    # meeting = meeting.intersection(s)\n",
    "    \n",
    "# use enumerate?\n",
    "\n",
    "# try1 = ['01:00', '02:00', '03:00', '04:00']\n",
    "# try2 = ['02:00', '03:00', '04:00', '05:00']\n",
    "# try3 = ['03:00', '04:00', '05:00', '06:00']\n",
    "\n",
    "# def can_meet(*people_times):\n",
    "#     # people_times are LISTs\n",
    "#     #go through arguments - get a count of arguments...?\n",
    "#     args = 0\n",
    "#     # for each list in the collection of lists -\n",
    "#     for person_times in people_times:\n",
    "#         args += 1\n",
    "#     # make a starter set - \n",
    "#     meetings = {}\n",
    "#     for person_times in people_times[0]:\n",
    "#         meetings = set(person_times)\n",
    "#     for person_times in people_times[1:max(people_times)]:\n",
    "#         meetings = meetings.intersection(person_times)\n",
    "#     return list(meetings)\n",
    "\n",
    "# ex1 = can_meet(try1, try2, try3)\n",
    "# print(ex1)\n",
    "\n",
    "# Nope - gotta use enumerate\n",
    "\n",
    "def can_meet(*people_times):\n",
    "    for index, people_time in enumerate(people_times):\n",
    "        if index == 0:\n",
    "            working_times = set(people_time)\n",
    "        else:\n",
    "             working_times = working_times.intersection(people_time)\n",
    "    return list(working_times)"
   ]
  },
  {
   "cell_type": "code",
   "execution_count": 16,
   "metadata": {},
   "outputs": [],
   "source": []
  },
  {
   "cell_type": "code",
   "execution_count": null,
   "metadata": {},
   "outputs": [],
   "source": [
    "# # copied idea from Stack Overflow:\n",
    "# # loop through set[n+1] to set[max_sets]\n",
    "# for l in (l2, l3, l4):\n",
    "#     # add the lists (as sets) to giant list to iterate through\n",
    "#     check_list = list(set(l))\n",
    "# # set original set as the 1st set\n",
    "# result = set(l1)\n",
    "# # iterate through list of sets:\n",
    "# for s in check_list:\n",
    "#     # find the intersections\n",
    "#     result = result.intersection(s)\n",
    "    \n",
    "# return result\n",
    "\n",
    "\n",
    "# so for an unknown number of arguments:\n",
    "# checklist = []\n",
    "# for l in ls:\n",
    "    # checklist = checklist.append(set(l))\n",
    "    # meeting = set(l)\n",
    "    # ------ except meeting is now not accessible outside the for-loop :/\n",
    "# for s in checklist:\n",
    "    # meeting = meeting.intersection(s)\n",
    "\n",
    "# GOTTA USE enumerate"
   ]
  },
  {
   "cell_type": "code",
   "execution_count": 9,
   "metadata": {},
   "outputs": [
    {
     "name": "stdout",
     "output_type": "stream",
     "text": [
      "['03:00', '04:00']\n"
     ]
    }
   ],
   "source": [
    "try1 = ['01:00', '02:00', '03:00', '04:00']\n",
    "try2 = ['02:00', '03:00', '04:00', '05:00']\n",
    "try3 = ['03:00', '04:00', '05:00', '06:00']\n",
    "\n",
    "def can_meet(*people_times):\n",
    "    for index, people_time in enumerate(people_times):\n",
    "        if index == 0:\n",
    "            working_times = set(people_time)\n",
    "        else:\n",
    "             working_times = working_times.intersection(people_time)\n",
    "    return list(working_times)\n",
    "\n",
    "ex1 = can_meet(try1, try2, try3)\n",
    "print(ex1)\n"
   ]
  },
  {
   "cell_type": "code",
   "execution_count": 10,
   "metadata": {},
   "outputs": [
    {
     "name": "stdout",
     "output_type": "stream",
     "text": [
      "['14:30', '12:00']\n"
     ]
    }
   ],
   "source": [
    "billy_times = ['09:00', '10:30', '11:30', '12:00', '13:00', '14:30']\n",
    "teammate_1 = ['09:30', '10:00', '10:30', '12:00', '14:30', '16:00']\n",
    "teammate_2 = ['09:00', '09:30', '11:00', '11:30', '12:00', '13:30', '14:30', '15:00']\n",
    "teammate_3 = ['11:00', '11:30', '12:00', '14:00', '14:30', '16:30', '17:00']\n",
    "\n",
    "def can_meet(*people_times):\n",
    "    for index, people_time in enumerate(people_times):\n",
    "        if index == 0:\n",
    "            working_times = set(people_time)\n",
    "        else:\n",
    "             working_times = working_times.intersection(people_time)\n",
    "    return list(working_times)\n",
    "\n",
    "ex2 = can_meet(billy_times, teammate_1, teammate_2, teammate_3)\n",
    "print(ex2)"
   ]
  }
 ],
 "metadata": {
  "kernelspec": {
   "display_name": "Python 3 (ipykernel)",
   "language": "python",
   "name": "python3"
  },
  "language_info": {
   "codemirror_mode": {
    "name": "ipython",
    "version": 3
   },
   "file_extension": ".py",
   "mimetype": "text/x-python",
   "name": "python",
   "nbconvert_exporter": "python",
   "pygments_lexer": "ipython3",
   "version": "3.9.7"
  }
 },
 "nbformat": 4,
 "nbformat_minor": 2
}
